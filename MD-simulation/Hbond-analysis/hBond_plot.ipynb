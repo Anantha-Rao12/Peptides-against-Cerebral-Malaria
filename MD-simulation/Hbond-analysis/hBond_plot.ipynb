{
  "nbformat": 4,
  "nbformat_minor": 0,
  "metadata": {
    "colab": {
      "name": "hBond_plot.ipynb",
      "provenance": [],
      "mount_file_id": "1d0h_wxJZwHkeTvjLolkTTRNVJLNBLYaR",
      "authorship_tag": "ABX9TyP745UBAp63cE/s4CE/L/EG"
    },
    "kernelspec": {
      "name": "python3",
      "display_name": "Python 3"
    }
  },
  "cells": [
    {
      "cell_type": "code",
      "metadata": {
        "id": "3j2TvMM-ZLOB"
      },
      "source": [
        "import numpy as np\n",
        "import pandas as pd\n",
        "import matplotlib.pyplot as plt"
      ],
      "execution_count": 1,
      "outputs": []
    },
    {
      "cell_type": "markdown",
      "metadata": {
        "id": "Y-ihd3ayFhyI"
      },
      "source": [
        "## Specifying the path of .csv files"
      ]
    },
    {
      "cell_type": "code",
      "metadata": {
        "id": "7cmoO3AeZQ-0"
      },
      "source": [
        "md1_hybrid_hbonds = '/content/drive/My Drive/iGEM2020/Dry Lab Stuff/Human-protein-study/PfEMP1-5MZA--Ananth/MD-run/MD-hybrid/MD1/md1_hybrid_hbonds.csv'\n",
        "md2_hybrid_hbonds = '/content/drive/My Drive/iGEM2020/Dry Lab Stuff/Human-protein-study/PfEMP1-5MZA--Ananth/MD-run/MD-hybrid/MD2/md2_hybrid_hbonds.csv'\n",
        "md3_hybrid_hbonds = '/content/drive/My Drive/iGEM2020/Dry Lab Stuff/Human-protein-study/PfEMP1-5MZA--Ananth/MD-run/MD-hybrid/MD3/md3_hybrid_hbonds.csv'\n",
        "\n",
        "\n",
        "md1_16ile_hbonds = '/content/drive/My Drive/iGEM2020/Dry Lab Stuff/Human-protein-study/PfEMP1-5MZA--Ananth/MD-run/MD-16ile/MD1/md1_16ile_hbonds.csv'\n",
        "md2_16ile_hbonds = '/content/drive/My Drive/iGEM2020/Dry Lab Stuff/Human-protein-study/PfEMP1-5MZA--Ananth/MD-run/MD-16ile/MD2/md2_16ile_hbonds.csv'\n",
        "md3_16ile_hbonds = '/content/drive/My Drive/iGEM2020/Dry Lab Stuff/Human-protein-study/PfEMP1-5MZA--Ananth/MD-run/MD-16ile/MD3/md3_16ile_hbonds.csv'"
      ],
      "execution_count": 2,
      "outputs": []
    },
    {
      "cell_type": "markdown",
      "metadata": {
        "id": "owsdc10FD2db"
      },
      "source": [
        "# Auxillary functions"
      ]
    },
    {
      "cell_type": "code",
      "metadata": {
        "id": "uCN0myjXZ-1v"
      },
      "source": [
        "def preprocessing_df(path):\n",
        "\n",
        "    df = pd.read_csv(path)\n",
        "    df.drop('Unnamed: 0',axis=1,inplace=True)\n",
        "    df['DA_pair'] = df['Donor']+' | '+df['Acceptor']\n",
        "    df['Timestep'] = df['Fname'].apply(lambda x : x.split('.')[0][3:])\n",
        "    df['Timestep'] = df['Timestep'].apply(lambda x : str(x).zfill(3))\n",
        "    df[\"Timestep\"] = pd.to_numeric(df[\"Timestep\"], downcast=\"float\")\n",
        "    df.sort_values('Timestep', inplace=True)\n",
        "    df.drop('Fname',axis=1,inplace=True)\n",
        "\n",
        "    cols = df.columns.tolist()\n",
        "    cols = cols[-1:] + cols[:-1]\n",
        "    df = df[cols]\n",
        "\n",
        "    return df\n",
        "\n",
        "def get_run_hbond_data(df,DA_pairs):\n",
        "    counter_1,counter_2,counter_3,counter_4,counter_5,counter_6 = ([] for i in range(len(DA_pairs)))\n",
        "    tgroup = df.groupby('Timestep')\n",
        "    for i,j in tgroup:\n",
        "        for k in j['DA_pair'] :\n",
        "            \n",
        "            if k == DA_pairs[0]:\n",
        "                counter_1.append(int(i))\n",
        "\n",
        "            elif k == DA_pairs[1]:\n",
        "                counter_2.append(int(i))\n",
        "\n",
        "            elif k == DA_pairs[2]:\n",
        "                counter_3.append(int(i))\n",
        "\n",
        "            elif k == DA_pairs[3]:\n",
        "                counter_4.append(int(i))\n",
        "\n",
        "            elif k == DA_pairs[4]:\n",
        "                counter_5.append(int(i)) \n",
        "\n",
        "            elif k == DA_pairs[5]:\n",
        "                counter_6.append(int(i)) \n",
        "            else : \n",
        "                continue\n",
        "\n",
        "    run_hbond_data = np.array([np.array(counter_1),np.array(counter_2),\n",
        "                               np.array(counter_3),np.array(counter_4),\n",
        "                               np.array(counter_5),np.array(counter_6)])\n",
        "\n",
        "    return run_hbond_data"
      ],
      "execution_count": 3,
      "outputs": []
    },
    {
      "cell_type": "markdown",
      "metadata": {
        "id": "RCeuvEvukrLb"
      },
      "source": [
        "# Dummy plotting"
      ]
    },
    {
      "cell_type": "code",
      "metadata": {
        "id": "tKhR7W6SkobD"
      },
      "source": [
        "run1 = np.array([np.random.rand(i+1) for i in range(7)])\n",
        "run2 = np.array([np.random.rand(i+1) for i in range(7)])\n",
        "run3 = np.array([np.random.rand(i+1) for i in range(7)])\n"
      ],
      "execution_count": 181,
      "outputs": []
    },
    {
      "cell_type": "code",
      "metadata": {
        "id": "4gOw0U9Ekyme",
        "outputId": "21d8d8b7-fa62-4053-fa26-b2ea909ee07d",
        "colab": {
          "base_uri": "https://localhost:8080/",
          "height": 282
        }
      },
      "source": [
        "fig = plt.figure(figsize=(8,4))\n",
        "for i in range(7):\n",
        "    plt.plot(run1[i]*100,(i+0.65)*np.ones(np.size(run1[i])),'|',markersize='8.5',mew=5,color='seagreen',alpha=0.8)\n",
        "    plt.plot(run2[i]*100,(i+1)*np.ones(np.size(run1[i])),'|',markersize='8.5',mew=5,color='indigo',alpha=0.8)\n",
        "    plt.plot(run3[i]*100,(i+1.35)*np.ones(np.size(run1[i])),'|',markersize='8.5',mew=5,color='darkorange',alpha=0.8)\n",
        "    plt.axhline(i+0.5,alpha=0.5,linewidth=0.5)\n",
        "#plt.axhline(i+1+0.5,alpha=0.5,linewidth=0.5)\n",
        "\n",
        "plt.legend(['run1','run2','run3']);\n",
        "plt.plot()"
      ],
      "execution_count": 182,
      "outputs": [
        {
          "output_type": "execute_result",
          "data": {
            "text/plain": [
              "[]"
            ]
          },
          "metadata": {
            "tags": []
          },
          "execution_count": 182
        },
        {
          "output_type": "display_data",
          "data": {
            "image/png": "[encoded data removed]",
            "text/plain": [
              "<Figure size 576x288 with 1 Axes>"
            ]
          },
          "metadata": {
            "tags": [],
            "needs_background": "light"
          }
        }
      ]
    },
    {
      "cell_type": "markdown",
      "metadata": {
        "id": "ZWxOTvT8o1Z8"
      },
      "source": [
        "# MD Hybrid\n",
        "\n"
      ]
    },
    {
      "cell_type": "markdown",
      "metadata": {
        "id": "eMTGeUxilFh5"
      },
      "source": [
        "## DA MD Hybrid hbonds (>25%)\n",
        "\n",
        "1. :356.A@ND2 | :16.B@O\n",
        "2. :16.B@N | :356.A@OD1 \n",
        "3. :13.B@NE | :393.A@OD2\n",
        "4. :13.B@NH2 | :393.A@OD1\n",
        "5. :13.B@NH2 | :393.A@OD2\n",
        "6. :362.A@OH | :17.B@OD2"
      ]
    },
    {
      "cell_type": "code",
      "metadata": {
        "id": "ixR_g4lOeurH"
      },
      "source": [
        "md_h1 = preprocessing_df(md1_hybrid_hbonds)\n",
        "md_h2 = preprocessing_df(md2_hybrid_hbonds)\n",
        "md_h3 = preprocessing_df(md3_hybrid_hbonds)\n",
        "\n",
        "mdh_da_pairs = [':356.A@ND2 | :16.B@O', ':16.B@N | :356.A@OD1',\n",
        "                ':13.B@NE | :393.A@OD2', ':13.B@NH2 | :393.A@OD1',\n",
        "                ':13.B@NH2 | :393.A@OD2',':362.A@OH | :17.B@OD2']\n",
        "\n",
        "run1_data = get_run_hbond_data(md_h1,mdh_da_pairs)\n",
        "run2_data = get_run_hbond_data(md_h2,mdh_da_pairs)\n",
        "run3_data = get_run_hbond_data(md_h3,mdh_da_pairs)"
      ],
      "execution_count": 4,
      "outputs": []
    },
    {
      "cell_type": "code",
      "metadata": {
        "id": "QT6riN6NpI-T",
        "outputId": "2e902c75-1abb-45eb-90af-b908ae1c7a2f",
        "colab": {
          "base_uri": "https://localhost:8080/",
          "height": 373
        }
      },
      "source": [
        "fig = plt.figure(figsize=(8,5))\n",
        "for i in range(len(run1_data)):\n",
        "    plt.plot(run1_data[i]*0.5,(i+0.65)*np.ones(np.size(run1_data[i])),'|',markersize='8.5',mew=4,color='seagreen',alpha=0.8)\n",
        "    plt.plot(run2_data[i]*0.5,(i+1)*np.ones(np.size(run2_data[i])),'|',markersize='8.5',mew=4,color='indigo',alpha=0.8)\n",
        "    plt.plot(run3_data[i]*0.5,(i+1.35)*np.ones(np.size(run3_data[i])),'|',markersize='8.5',mew=4,color='darkorange',alpha=0.8)\n",
        "    plt.axhline(i+0.5,alpha=0.5,linewidth=0.5)\n",
        "\n",
        "plt.legend(['Run1','Run2','Run3'], bbox_to_anchor=(1.01, 1), loc='upper left')\n",
        "plt.xlabel('Time (ns)',fontsize=14)\n",
        "plt.ylabel('Hydrogen bonds Index',fontsize=14)\n",
        "plt.title('Hbond Profile for the Hybrid Inhibitor of 5MZA',fontsize=16)\n",
        "plt.plot()"
      ],
      "execution_count": 5,
      "outputs": [
        {
          "output_type": "execute_result",
          "data": {
            "text/plain": [
              "[]"
            ]
          },
          "metadata": {
            "tags": []
          },
          "execution_count": 5
        },
        {
          "output_type": "display_data",
          "data": {
            "image/png": "[encoded data removed]",
            "text/plain": [
              "<Figure size 576x360 with 1 Axes>"
            ]
          },
          "metadata": {
            "tags": [],
            "needs_background": "light"
          }
        }
      ]
    },
    {
      "cell_type": "markdown",
      "metadata": {
        "id": "VuaF1GfU11xK"
      },
      "source": [
        "# MD 16ile\n"
      ]
    },
    {
      "cell_type": "markdown",
      "metadata": {
        "id": "qEFhkZuU3Vr3"
      },
      "source": [
        "## DA MD S16I Hbonds (>25%)\n",
        "\n",
        "1. :356.A@ND2 | :16.B@O\n",
        "1. :16.B@N | :356.A@OD1     \n",
        "3. :394.A@OG1 | :13.B@O\n",
        "4. :10.B@N | :363.A@OD1\n",
        "5. :363.A@N | :10.B@O\n",
        "6. :349.A@NZ | :18.B@OC2"
      ]
    },
    {
      "cell_type": "code",
      "metadata": {
        "id": "UZVesapQ13MG"
      },
      "source": [
        "md_inh1 = preprocessing_df(md1_16ile_hbonds)\n",
        "md_inh2 = preprocessing_df(md2_16ile_hbonds)\n",
        "md_inh3 = preprocessing_df(md3_16ile_hbonds)"
      ],
      "execution_count": 6,
      "outputs": []
    },
    {
      "cell_type": "code",
      "metadata": {
        "id": "3fn7UaOv3VeJ"
      },
      "source": [
        "md_inh_DA_pairs = [':356.A@ND2 | :16.B@O',':16.B@N | :356.A@OD1',':394.A@OG1 | :13.B@O',\n",
        "            ':10.B@N | :363.A@OD1',':363.A@N | :10.B@O',':349.A@NZ | :18.B@OC2']\n",
        "    \n",
        "\n",
        "ile_run1_data = get_run_hbond_data(md_inh1,md_inh_DA_pairs)\n",
        "ile_run2_data = get_run_hbond_data(md_inh2,md_inh_DA_pairs)\n",
        "ile_run3_data = get_run_hbond_data(md_inh3,md_inh_DA_pairs)\n"
      ],
      "execution_count": 7,
      "outputs": []
    },
    {
      "cell_type": "code",
      "metadata": {
        "id": "XnenoLGs6foI",
        "outputId": "5b6dc60d-17a0-4127-c95a-ecb50ed8f21e",
        "colab": {
          "base_uri": "https://localhost:8080/",
          "height": 373
        }
      },
      "source": [
        "fig = plt.figure(figsize=(8,5))\n",
        "for i in range(len(ile_run1_data)):\n",
        "    plt.plot(ile_run1_data[i]*0.5,(i+0.65)*np.ones(np.size(ile_run1_data[i])),'|',markersize='8.5',mew=4,color='seagreen',alpha=0.8)\n",
        "    plt.plot(ile_run2_data[i]*0.5,(i+1)*np.ones(np.size(ile_run2_data[i])),'|',markersize='8.5',mew=4,color='indigo',alpha=0.8)\n",
        "    plt.plot(ile_run3_data[i]*0.5,(i+1.35)*np.ones(np.size(ile_run3_data[i])),'|',markersize='8.5',mew=4,color='darkorange',alpha=0.8)\n",
        "    plt.axhline(i+0.5,alpha=0.5,linewidth=0.5)\n",
        "\n",
        "plt.legend(['Run1','Run2','Run3'], bbox_to_anchor=(1.01, 1), loc='upper left')\n",
        "plt.xlabel('Time (ns)',fontsize=14)\n",
        "plt.ylabel('Hydrogen bonds Index',fontsize=14)\n",
        "plt.title('Hbond Profile for the Mutant Inhibitor of 5MZA',fontsize=16)\n",
        "plt.plot()"
      ],
      "execution_count": 8,
      "outputs": [
        {
          "output_type": "execute_result",
          "data": {
            "text/plain": [
              "[]"
            ]
          },
          "metadata": {
            "tags": []
          },
          "execution_count": 8
        },
        {
          "output_type": "display_data",
          "data": {
            "image/png": "[encoded data removed]",
            "text/plain": [
              "<Figure size 576x360 with 1 Axes>"
            ]
          },
          "metadata": {
            "tags": [],
            "needs_background": "light"
          }
        }
      ]
    },
    {
      "cell_type": "code",
      "metadata": {
        "id": "ooiN6kE-C9ag"
      },
      "source": [
        ""
      ],
      "execution_count": null,
      "outputs": []
    }
  ]
}
